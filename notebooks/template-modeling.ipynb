{
 "cells": [
  {
   "cell_type": "markdown",
   "metadata": {},
   "source": [
    "# Pemodelan Data Penjualan\n",
    "\n",
    "Notebook ini berisi pemodelan sederhana untuk memprediksi revenue berdasarkan data demografis."
   ]
  },
  {
   "cell_type": "code",
   "execution_count": null,
   "metadata": {},
   "outputs": [],
   "source": [
    "# Import library yang diperlukan\n",
    "import pandas as pd\n",
    "import numpy as np\n",
    "import matplotlib.pyplot as plt\n",
    "import seaborn as sns\n",
    "from sklearn.linear_model import LinearRegression\n",
    "from sklearn.tree import DecisionTreeRegressor\n",
    "from sklearn.ensemble import RandomForestRegressor\n",
    "from sklearn.metrics import mean_squared_error, r2_score, mean_absolute_error\n",
    "\n",
    "# Setting untuk visualisasi\n",
    "%matplotlib inline"
   ]
  },
  {
   "cell_type": "markdown",
   "metadata": {},
   "source": [
    "## 1. Membaca Data yang Sudah Dipersiapkan"
   ]
  },
  {
   "cell_type": "code",
   "execution_count": null,
   "metadata": {},
   "outputs": [],
   "source": [
    "# Membaca data training dan testing\n",
    "X_train = pd.read_csv('../data/X_train.csv')\n",
    "X_test = pd.read_csv('../data/X_test.csv')\n",
    "y_train = pd.read_csv('../data/y_train.csv').iloc[:, 0]\n",
    "y_test = pd.read_csv('../data/y_test.csv').iloc[:, 0]\n",
    "\n",
    "# Memeriksa ukuran data\n",
    "print(\"Ukuran data training:\", X_train.shape)\n",
    "print(\"Ukuran data testing:\", X_test.shape)"
   ]
  },
  {
   "cell_type": "markdown",
   "metadata": {},
   "source": [
    "## 2. Model Regresi Linear"
   ]
  },
  {
   "cell_type": "code",
   "execution_count": null,
   "metadata": {},
   "outputs": [],
   "source": [
    "# Membuat model regresi linear\n",
    "lr_model = LinearRegression()\n",
    "\n",
    "# Melatih model\n",
    "lr_model.fit(X_train, y_train)\n",
    "\n",
    "# Prediksi\n",
    "y_pred_lr = lr_model.predict(X_test)"
   ]
  },
  {
   "cell_type": "code",
   "execution_count": null,
   "metadata": {},
   "outputs": [],
   "source": [
    "# Evaluasi model\n",
    "mse_lr = mean_squared_error(y_test, y_pred_lr)\n",
    "rmse_lr = np.sqrt(mse_lr)\n",
    "mae_lr = mean_absolute_error(y_test, y_pred_lr)\n",
    "r2_lr = r2_score(y_test, y_pred_lr)\n",
    "\n",
    "print(\"Hasil Evaluasi Model Regresi Linear:\")\n",
    "print(f\"Mean Squared Error (MSE): {mse_lr:.2f}\")\n",
    "print(f\"Root Mean Squared Error (RMSE): {rmse_lr:.2f}\")\n",
    "print(f\"Mean Absolute Error (MAE): {mae_lr:.2f}\")\n",
    "print(f\"R² Score: {r2_lr:.4f}\")"
   ]
  },
  {
   "cell_type": "code",
   "execution_count": null,
   "metadata": {},
   "outputs": [],
   "source": [
    "# Visualisasi hasil prediksi vs aktual\n",
    "plt.figure(figsize=(10, 6))\n",
    "plt.scatter(y_test, y_pred_lr, alpha=0.7)\n",
    "plt.plot([y_test.min(), y_test.max()], [y_test.min(), y_test.max()], 'r--')\n",
    "plt.xlabel('Revenue Aktual (Rp)')\n",
    "plt.ylabel('Revenue Prediksi (Rp)')\n",
    "plt.title('Prediksi vs Aktual - Model Regresi Linear')\n",
    "plt.show()"
   ]
  },
  {
   "cell_type": "code",
   "execution_count": null,
   "metadata": {},
   "outputs": [],
   "source": [
    "# Melihat koefisien model\n",
    "features = X_train.columns\n",
    "coefficients = pd.DataFrame(lr_model.coef_, index=features, columns=['Coefficient'])\n",
    "coefficients = coefficients.sort_values(by='Coefficient', ascending=False)\n",
    "\n",
    "plt.figure(figsize=(10, 6))\n",
    "coefficients.plot(kind='bar')\n",
    "plt.title('Koefisien Model Regresi Linear')\n",
    "plt.xlabel('Feature')\n",
    "plt.ylabel('Koefisien')\n",
    "plt.grid(axis='y')\n",
    "plt.show()"
   ]
  },
  {
   "cell_type": "markdown",
   "metadata": {},
   "source": [
    "## 3. Model Decision Tree"
   ]
  },
  {
   "cell_type": "code",
   "execution_count": null,
   "metadata": {},
   "outputs": [],
   "source": [
    "# Membuat model decision tree\n",
    "dt_model = DecisionTreeRegressor(max_depth=5, random_state=42)\n",
    "\n",
    "# Melatih model\n",
    "dt_model.fit(X_train, y_train)\n",
    "\n",
    "# Prediksi\n",
    "y_pred_dt = dt_model.predict(X_test)"
   ]
  },
  {
   "cell_type": "code",
   "execution_count": null,
   "metadata": {},
   "outputs": [],
   "source": [
    "# Evaluasi model\n",
    "mse_dt = mean_squared_error(y_test, y_pred_dt)\n",
    "rmse_dt = np.sqrt(mse_dt)\n",
    "mae_dt = mean_absolute_error(y_test, y_pred_dt)\n",
    "r2_dt = r2_score(y_test, y_pred_dt)\n",
    "\n",
    "print(\"Hasil Evaluasi Model Decision Tree:\")\n",
    "print(f\"Mean Squared Error (MSE): {mse_dt:.2f}\")\n",
    "print(f\"Root Mean Squared Error (RMSE): {rmse_dt:.2f}\")\n",
    "print(f\"Mean Absolute Error (MAE): {mae_dt:.2f}\")\n",
    "print(f\"R² Score: {r2_dt:.4f}\")"
   ]
  },
  {
   "cell_type": "code",
   "execution_count": null,
   "metadata": {},
   "outputs": [],
   "source": [
    "# Visualisasi hasil prediksi vs aktual\n",
    "plt.figure(figsize=(10, 6))\n",
    "plt.scatter(y_test, y_pred_dt, alpha=0.7)\n",
    "plt.plot([y_test.min(), y_test.max()], [y_test.min(), y_test.max()], 'r--')\n",
    "plt.xlabel('Revenue Aktual (Rp)')\n",
    "plt.ylabel('Revenue Prediksi (Rp)')\n",
    "plt.title('Prediksi vs Aktual - Model Decision Tree')\n",
    "plt.show()"
   ]
  },
  {
   "cell_type": "code",
   "execution_count": null,
   "metadata": {},
   "outputs": [],
   "source": [
    "# Melihat feature importance\n",
    "feature_importance = pd.DataFrame(dt_model.feature_importances_, index=features, columns=['Importance'])\n",
    "feature_importance = feature_importance.sort_values(by='Importance', ascending=False)\n",
    "\n",
    "plt.figure(figsize=(10, 6))\n",
    "feature_importance.plot(kind='bar')\n",
    "plt.title('Feature Importance - Model Decision Tree')\n",
    "plt.xlabel('Feature')\n",
    "plt.ylabel('Importance')\n",
    "plt.grid(axis='y')\n",
    "plt.show()"
   ]
  },
  {
   "cell_type": "markdown",
   "metadata": {},
   "source": [
    "## 4. Model Random Forest"
   ]
  },
  {
   "cell_type": "code",
   "execution_count": null,
   "metadata": {},
   "outputs": [],
   "source": [
    "# Membuat model random forest\n",
    "rf_model = RandomForestRegressor(n_estimators=100, max_depth=5, random_state=42)\n",
    "\n",
    "# Melatih model\n",
    "rf_model.fit(X_train, y_train)\n",
    "\n",
    "# Prediksi\n",
    "y_pred_rf = rf_model.predict(X_test)"
   ]
  },
  {
   "cell_type": "code",
   "execution_count": null,
   "metadata": {},
   "outputs": [],
   "source": [
    "# Evaluasi model\n",
    "mse_rf = mean_squared_error(y_test, y_pred_rf)\n",
    "rmse_rf = np.sqrt(mse_rf)\n",
    "mae_rf = mean_absolute_error(y_test, y_pred_rf)\n",
    "r2_rf = r2_score(y_test, y_pred_rf)\n",
    "\n",
    "print(\"Hasil Evaluasi Model Random Forest:\")\n",
    "print(f\"Mean Squared Error (MSE): {mse_rf:.2f}\")\n",
    "print(f\"Root Mean Squared Error (RMSE): {rmse_rf:.2f}\")\n",
    "print(f\"Mean Absolute Error (MAE): {mae_rf:.2f}\")\n",
    "print(f\"R² Score: {r2_rf:.4f}\")"
   ]
  },
  {
   "cell_type": "code",
   "execution_count": null,
   "metadata": {},
   "outputs": [],
   "source": [
    "# Visualisasi hasil prediksi vs aktual\n",
    "plt.figure(figsize=(10, 6))\n",
    "plt.scatter(y_test, y_pred_rf, alpha=0.7)\n",
    "plt.plot([y_test.min(), y_test.max()], [y_test.min(), y_test.max()], 'r--')\n",
    "plt.xlabel('Revenue Aktual (Rp)')\n",
    "plt.ylabel('Revenue Prediksi (Rp)')\n",
    "plt.title('Prediksi vs Aktual - Model Random Forest')\n",
    "plt.show()"
   ]
  },
  {
   "cell_type": "code",
   "execution_count": null,
   "metadata": {},
   "outputs": [],
   "source": [
    "# Melihat feature importance\n",
    "feature_importance_rf = pd.DataFrame(rf_model.feature_importances_, index=features, columns=['Importance'])\n",
    "feature_importance_rf = feature_importance_rf.sort_values(by='Importance', ascending=False)\n",
    "\n",
    "plt.figure(figsize=(10, 6))\n",
    "feature_importance_rf.plot(kind='bar')\n",
    "plt.title('Feature Importance - Model Random Forest')\n",
    "plt.xlabel('Feature')\n",
    "plt.ylabel('Importance')\n",
    "plt.grid(axis='y')\n",
    "plt.show()"
   ]
  },
  {
   "cell_type": "markdown",
   "metadata": {},
   "source": [
    "## 5. Perbandingan Model"
   ]
  },
  {
   "cell_type": "code",
   "execution_count": null,
   "metadata": {},
   "outputs": [],
   "source": [
    "# Membuat dataframe perbandingan\n",
    "models = ['Linear Regression', 'Decision Tree', 'Random Forest']\n",
    "mse_values = [mse_lr, mse_dt, mse_rf]\n",
    "rmse_values = [rmse_lr, rmse_dt, rmse_rf]\n",
    "mae_values = [mae_lr, mae_dt, mae_rf]\n",
    "r2_values = [r2_lr, r2_dt, r2_rf]\n",
    "\n",
    "comparison = pd.DataFrame({\n",
    "    'Model': models,\n",
    "    'MSE': mse_values,\n",
    "    'RMSE': rmse_values,\n",
    "    'MAE': mae_values,\n",
    "    'R²': r2_values\n",
    "})\n",
    "\n",
    "print(\"Perbandingan Model:\")\n",
    "comparison"
   ]
  },
  {
   "cell_type": "code",
   "execution_count": null,
   "metadata": {},
   "outputs": [],
   "source": [
    "# Visualisasi perbandingan metrik\n",
    "metrics = ['MSE', 'RMSE', 'MAE']\n",
    "metric_values = [mse_values, rmse_values, mae_values]\n",
    "\n",
    "fig, axes = plt.subplots(1, 3, figsize=(18, 5))\n",
    "\n",
    "for i, (metric, values) in enumerate(zip(metrics, metric_values)):\n",
    "    axes[i].bar(models, values)\n",
    "    axes[i].set_title(f'Perbandingan {metric}')\n",
    "    axes[i].set_ylabel(metric)\n",
    "    axes[i].grid(axis='y')\n",
    "    \n",
    "plt.tight_layout()\n",
    "plt.show()\n",
    "\n",
    "# Visualisasi R² Score\n",
    "plt.figure(figsize=(10, 5))\n",
    "plt.bar(models, r2_values)\n",
    "plt.title('Perbandingan R² Score')\n",
    "plt.ylabel('R² Score')\n",
    "plt.ylim(0, 1)  # R² biasanya antara 0 dan 1\n",
    "plt.grid(axis='y')\n",
    "plt.show()"
   ]
  },
  {
   "cell_type": "markdown",
   "metadata": {},
   "source": [
    "## 6. Kesimpulan dan Model Terbaik"
   ]
  },
  {
   "cell_type": "code",
   "execution_count": null,
   "metadata": {},
   "outputs": [],
   "source": [
    "# Menentukan model terbaik berdasarkan R²\n",
    "best_model_index = r2_values.index(max(r2_values))\n",
    "best_model = models[best_model_index]\n",
    "\n",
    "print(f\"Model terbaik berdasarkan R² Score adalah: {best_model}\")\n",
    "print(f\"Dengan R² Score: {max(r2_values):.4f}\")\n",
    "\n",
    "# Menyimpan model terbaik\n",
    "import pickle\n",
    "\n",
    "if best_model == 'Linear Regression':\n",
    "    model_to_save = lr_model\n",
    "elif best_model == 'Decision Tree':\n",
    "    model_to_save = dt_model\n",
    "else:\n",
    "    model_to_save = rf_model\n",
    "    \n",
    "# Membuat direktori models jika belum ada\n",
    "import os\n",
    "if not os.path.exists('../models'):\n",
    "    os.makedirs('../models')\n",
    "\n",
    "# Menyimpan model dalam format pickle\n",
    "with open('../models/best_model.pkl', 'wb') as file:\n",
    "    pickle.dump(model_to_save, file)\n",
    "    \n",
    "print(\"Model terbaik telah disimpan sebagai 'best_model.pkl'\")"
   ]
  },
  {
   "cell_type": "code",
   "execution_count": null,
   "metadata": {},
   "outputs": [],
   "source": []
  },
  {
   "cell_type": "code",
   "execution_count": null,
   "metadata": {},
   "outputs": [],
   "source": []
  },
  {
   "cell_type": "code",
   "execution_count": null,
   "metadata": {},
   "outputs": [],
   "source": []
  }
 ],
 "metadata": {
  "kernelspec": {
   "display_name": "base",
   "language": "python",
   "name": "python3"
  },
  "language_info": {
   "codemirror_mode": {
    "name": "ipython",
    "version": 3
   },
   "file_extension": ".py",
   "mimetype": "text/x-python",
   "name": "python",
   "nbconvert_exporter": "python",
   "pygments_lexer": "ipython3",
   "version": "3.9.13"
  }
 },
 "nbformat": 4,
 "nbformat_minor": 4
}
