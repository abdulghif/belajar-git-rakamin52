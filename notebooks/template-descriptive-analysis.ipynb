{
 "cells": [
  {
   "cell_type": "markdown",
   "metadata": {},
   "source": [
    "# Analisis Deskriptif Data Penjualan\n",
    "\n",
    "Notebook ini berisi analisis deskriptif sederhana untuk data penjualan berdasarkan demografis (gender dan umur)."
   ]
  },
  {
   "cell_type": "code",
   "execution_count": null,
   "metadata": {},
   "outputs": [],
   "source": [
    "# Import library yang diperlukan\n",
    "import pandas as pd\n",
    "import numpy as np\n",
    "import matplotlib.pyplot as plt\n",
    "import seaborn as sns\n",
    "\n",
    "# Setting untuk visualisasi\n",
    "plt.style.use('seaborn-v0_8-whitegrid')\n",
    "sns.set(font_scale=1.2)\n",
    "%matplotlib inline"
   ]
  },
  {
   "cell_type": "markdown",
   "metadata": {},
   "source": [
    "## 1. Membaca Data"
   ]
  },
  {
   "cell_type": "code",
   "execution_count": null,
   "metadata": {},
   "outputs": [],
   "source": [
    "# Membaca file CSV\n",
    "df = pd.read_csv('../sales_data.csv')\n",
    "\n",
    "# Melihat beberapa baris pertama\n",
    "df.head()"
   ]
  },
  {
   "cell_type": "code",
   "execution_count": null,
   "metadata": {},
   "outputs": [],
   "source": [
    "# Informasi dasar tentang dataset\n",
    "print(\"Jumlah baris:\", df.shape[0])\n",
    "print(\"Jumlah kolom:\", df.shape[1])\n",
    "print(\"\\nInformasi kolom:\")\n",
    "df.info()"
   ]
  },
  {
   "cell_type": "code",
   "execution_count": null,
   "metadata": {},
   "outputs": [],
   "source": [
    "# Statistik deskriptif\n",
    "df.describe()"
   ]
  },
  {
   "cell_type": "markdown",
   "metadata": {},
   "source": [
    "## 2. Analisis Berdasarkan Gender"
   ]
  },
  {
   "cell_type": "code",
   "execution_count": null,
   "metadata": {},
   "outputs": [],
   "source": [
    "# Distribusi gender\n",
    "gender_counts = df['gender'].value_counts()\n",
    "print(\"Jumlah pelanggan berdasarkan gender:\")\n",
    "print(gender_counts)\n",
    "\n",
    "# Visualisasi distribusi gender\n",
    "plt.figure(figsize=(8, 5))\n",
    "sns.countplot(x='gender', data=df)\n",
    "plt.title('Distribusi Gender')\n",
    "plt.xlabel('Gender')\n",
    "plt.ylabel('Jumlah')\n",
    "plt.show()"
   ]
  },
  {
   "cell_type": "code",
   "execution_count": null,
   "metadata": {},
   "outputs": [],
   "source": [
    "# Analisis revenue berdasarkan gender\n",
    "gender_revenue = df.groupby('gender')['revenue'].agg(['mean', 'median', 'sum', 'count'])\n",
    "print(\"Statistik revenue berdasarkan gender:\")\n",
    "print(gender_revenue)\n",
    "\n",
    "# Visualisasi rata-rata revenue berdasarkan gender\n",
    "plt.figure(figsize=(8, 5))\n",
    "sns.barplot(x='gender', y='revenue', data=df, estimator=np.mean)\n",
    "plt.title('Rata-rata Revenue Berdasarkan Gender')\n",
    "plt.xlabel('Gender')\n",
    "plt.ylabel('Rata-rata Revenue (Rp)')\n",
    "plt.show()"
   ]
  },
  {
   "cell_type": "code",
   "execution_count": null,
   "metadata": {},
   "outputs": [],
   "source": [
    "# Visualisasi distribusi revenue berdasarkan gender\n",
    "plt.figure(figsize=(10, 6))\n",
    "sns.boxplot(x='gender', y='revenue', data=df)\n",
    "plt.title('Distribusi Revenue Berdasarkan Gender')\n",
    "plt.xlabel('Gender')\n",
    "plt.ylabel('Revenue (Rp)')\n",
    "plt.show()"
   ]
  },
  {
   "cell_type": "markdown",
   "metadata": {},
   "source": [
    "## 3. Analisis Berdasarkan Umur"
   ]
  },
  {
   "cell_type": "code",
   "execution_count": null,
   "metadata": {},
   "outputs": [],
   "source": [
    "# Membuat kelompok umur\n",
    "df['age_group'] = pd.cut(df['age'], bins=[18, 25, 35, 45, 55], labels=['18-25', '26-35', '36-45', '46-55'])\n",
    "\n",
    "# Distribusi kelompok umur\n",
    "age_group_counts = df['age_group'].value_counts().sort_index()\n",
    "print(\"Jumlah pelanggan berdasarkan kelompok umur:\")\n",
    "print(age_group_counts)\n",
    "\n",
    "# Visualisasi distribusi kelompok umur\n",
    "plt.figure(figsize=(10, 5))\n",
    "sns.countplot(x='age_group', data=df, order=['18-25', '26-35', '36-45', '46-55'])\n",
    "plt.title('Distribusi Kelompok Umur')\n",
    "plt.xlabel('Kelompok Umur')\n",
    "plt.ylabel('Jumlah')\n",
    "plt.show()"
   ]
  },
  {
   "cell_type": "code",
   "execution_count": null,
   "metadata": {},
   "outputs": [],
   "source": [
    "# Analisis revenue berdasarkan kelompok umur\n",
    "age_group_revenue = df.groupby('age_group')['revenue'].agg(['mean', 'median', 'sum', 'count'])\n",
    "print(\"Statistik revenue berdasarkan kelompok umur:\")\n",
    "print(age_group_revenue)\n",
    "\n",
    "# Visualisasi rata-rata revenue berdasarkan kelompok umur\n",
    "plt.figure(figsize=(10, 5))\n",
    "sns.barplot(x='age_group', y='revenue', data=df, estimator=np.mean, order=['18-25', '26-35', '36-45', '46-55'])\n",
    "plt.title('Rata-rata Revenue Berdasarkan Kelompok Umur')\n",
    "plt.xlabel('Kelompok Umur')\n",
    "plt.ylabel('Rata-rata Revenue (Rp)')\n",
    "plt.show()"
   ]
  },
  {
   "cell_type": "code",
   "execution_count": null,
   "metadata": {},
   "outputs": [],
   "source": [
    "# Visualisasi hubungan antara umur dan revenue\n",
    "plt.figure(figsize=(12, 6))\n",
    "sns.scatterplot(x='age', y='revenue', data=df, hue='gender')\n",
    "plt.title('Hubungan Umur dan Revenue')\n",
    "plt.xlabel('Umur')\n",
    "plt.ylabel('Revenue (Rp)')\n",
    "plt.show()"
   ]
  },
  {
   "cell_type": "markdown",
   "metadata": {},
   "source": [
    "## 4. Analisis Kombinasi Gender dan Umur"
   ]
  },
  {
   "cell_type": "code",
   "execution_count": null,
   "metadata": {},
   "outputs": [],
   "source": [
    "# Rata-rata revenue berdasarkan kombinasi gender dan kelompok umur\n",
    "gender_age_revenue = df.groupby(['gender', 'age_group'])['revenue'].mean().unstack()\n",
    "print(\"Rata-rata revenue berdasarkan gender dan kelompok umur:\")\n",
    "print(gender_age_revenue)\n",
    "\n",
    "# Visualisasi dengan heatmap\n",
    "plt.figure(figsize=(12, 6))\n",
    "sns.heatmap(gender_age_revenue, annot=True, fmt='.0f', cmap='Blues')\n",
    "plt.title('Rata-rata Revenue Berdasarkan Gender dan Kelompok Umur')\n",
    "plt.ylabel('Gender')\n",
    "plt.xlabel('Kelompok Umur')\n",
    "plt.show()"
   ]
  },
  {
   "cell_type": "code",
   "execution_count": null,
   "metadata": {},
   "outputs": [],
   "source": [
    "# Visualisasi dengan grouped bar chart\n",
    "plt.figure(figsize=(12, 6))\n",
    "gender_age_df = df.groupby(['age_group', 'gender'])['revenue'].mean().reset_index()\n",
    "sns.barplot(x='age_group', y='revenue', hue='gender', data=gender_age_df, order=['18-25', '26-35', '36-45', '46-55'])\n",
    "plt.title('Rata-rata Revenue Berdasarkan Gender dan Kelompok Umur')\n",
    "plt.xlabel('Kelompok Umur')\n",
    "plt.ylabel('Rata-rata Revenue (Rp)')\n",
    "plt.legend(title='Gender')\n",
    "plt.show()"
   ]
  },
  {
   "cell_type": "markdown",
   "metadata": {},
   "source": [
    "## 5. Kesimpulan\n",
    "\n",
    "Beberapa kesimpulan dari analisis deskriptif:\n",
    "\n",
    "1. Distribusi gender: ...\n",
    "2. Perbedaan revenue berdasarkan gender: ...\n",
    "3. Pengaruh umur terhadap revenue: ...\n",
    "4. Segmen demografis dengan revenue tertinggi: ..."
   ]
  }
 ],
 "metadata": {
  "kernelspec": {
   "display_name": "Python 3",
   "language": "python",
   "name": "python3"
  },
  "language_info": {
   "codemirror_mode": {
    "name": "ipython",
    "version": 3
   },
   "file_extension": ".py",
   "mimetype": "text/x-python",
   "name": "python",
   "nbconvert_exporter": "python",
   "pygments_lexer": "ipython3",
   "version": "3.8.10"
  }
 },
 "nbformat": 4,
 "nbformat_minor": 4
}
