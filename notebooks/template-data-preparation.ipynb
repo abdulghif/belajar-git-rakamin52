{
 "cells": [
  {
   "cell_type": "markdown",
   "metadata": {},
   "source": [
    "# Persiapan Data Penjualan\n",
    "\n",
    "Notebook ini berisi langkah-langkah persiapan data sederhana untuk data penjualan berdasarkan demografis."
   ]
  },
  {
   "cell_type": "code",
   "execution_count": null,
   "metadata": {},
   "outputs": [],
   "source": [
    "# Import library yang diperlukan\n",
    "import pandas as pd\n",
    "import numpy as np\n",
    "import matplotlib.pyplot as plt\n",
    "import seaborn as sns\n",
    "\n",
    "# Setting untuk visualisasi\n",
    "%matplotlib inline"
   ]
  },
  {
   "cell_type": "markdown",
   "metadata": {},
   "source": [
    "## 1. Membaca Data"
   ]
  },
  {
   "cell_type": "code",
   "execution_count": null,
   "metadata": {},
   "outputs": [],
   "source": [
    "# Membaca file CSV\n",
    "df = pd.read_csv('../sales.csv')\n",
    "\n",
    "# Melihat beberapa baris pertama\n",
    "df.head()"
   ]
  },
  {
   "cell_type": "markdown",
   "metadata": {},
   "source": [
    "## 2. Pemeriksaan Data"
   ]
  },
  {
   "cell_type": "code",
   "execution_count": null,
   "metadata": {},
   "outputs": [],
   "source": [
    "# Memeriksa informasi data\n",
    "df.info()"
   ]
  },
  {
   "cell_type": "code",
   "execution_count": null,
   "metadata": {},
   "outputs": [],
   "source": [
    "# Memeriksa data yang hilang\n",
    "print(\"Jumlah data yang hilang:\")\n",
    "print(df.isnull().sum())"
   ]
  },
  {
   "cell_type": "code",
   "execution_count": null,
   "metadata": {},
   "outputs": [],
   "source": [
    "# Memeriksa statistik deskriptif\n",
    "df.describe()"
   ]
  },
  {
   "cell_type": "markdown",
   "metadata": {},
   "source": [
    "## 3. Transformasi Data"
   ]
  },
  {
   "cell_type": "code",
   "execution_count": null,
   "metadata": {},
   "outputs": [],
   "source": [
    "# Konversi gender menjadi variabel dummy (0 dan 1)\n",
    "df['gender_code'] = df['gender'].map({'M': 1, 'F': 0})\n",
    "\n",
    "# Membuat kelompok umur\n",
    "df['age_group'] = pd.cut(df['age'], bins=[18, 25, 35, 45, 55], labels=['18-25', '26-35', '36-45', '46-55'])\n",
    "\n",
    "# Melihat hasil transformasi\n",
    "df.head()"
   ]
  },
  {
   "cell_type": "code",
   "execution_count": null,
   "metadata": {},
   "outputs": [],
   "source": [
    "# Membuat variabel dummy untuk kelompok umur\n",
    "age_dummies = pd.get_dummies(df['age_group'], prefix='age_group')\n",
    "\n",
    "# Menggabungkan dengan dataframe utama\n",
    "df = pd.concat([df, age_dummies], axis=1)\n",
    "\n",
    "# Melihat hasil transformasi\n",
    "df.head()"
   ]
  },
  {
   "cell_type": "markdown",
   "metadata": {},
   "source": [
    "## 4. Normalisasi Data"
   ]
  },
  {
   "cell_type": "code",
   "execution_count": null,
   "metadata": {},
   "outputs": [],
   "source": [
    "# Normalisasi variabel numerik (revenue)\n",
    "from sklearn.preprocessing import MinMaxScaler\n",
    "\n",
    "# Membuat scaler\n",
    "scaler = MinMaxScaler()\n",
    "\n",
    "# Menerapkan normalisasi pada revenue\n",
    "df['revenue_normalized'] = scaler.fit_transform(df[['revenue']])\n",
    "\n",
    "# Melihat hasil normalisasi\n",
    "df.head()"
   ]
  },
  {
   "cell_type": "markdown",
   "metadata": {},
   "source": [
    "## 5. Split Data"
   ]
  },
  {
   "cell_type": "code",
   "execution_count": null,
   "metadata": {},
   "outputs": [],
   "source": [
    "# Mempersiapkan feature dan target\n",
    "X = df[['age', 'gender_code', 'age_group_18-25', 'age_group_26-35', 'age_group_36-45', 'age_group_46-55']]\n",
    "y = df['revenue']\n",
    "\n",
    "# Memisahkan data training dan testing\n",
    "from sklearn.model_selection import train_test_split\n",
    "\n",
    "X_train, X_test, y_train, y_test = train_test_split(X, y, test_size=0.3, random_state=42)\n",
    "\n",
    "# Memeriksa ukuran data\n",
    "print(\"Ukuran data training:\", X_train.shape)\n",
    "print(\"Ukuran data testing:\", X_test.shape)"
   ]
  },
  {
   "cell_type": "markdown",
   "metadata": {},
   "source": [
    "## 6. Menyimpan Data yang Telah Dipersiapkan"
   ]
  },
  {
   "cell_type": "code",
   "execution_count": null,
   "metadata": {},
   "outputs": [],
   "source": [
    "# Membuat direktori models jika belum ada\n",
    "import os\n",
    "if not os.path.exists('../data'):\n",
    "    os.makedirs('../data')\n",
    "\n",
    "# Menyimpan data yang telah dipersiapkan\n",
    "df.to_csv('../data/sales_data_prepared.csv', index=False)\n",
    "\n",
    "# Menyimpan data training dan testing\n",
    "pd.DataFrame(X_train).to_csv('../data/X_train.csv', index=False)\n",
    "pd.DataFrame(X_test).to_csv('../data/X_test.csv', index=False)\n",
    "pd.DataFrame(y_train).to_csv('../data/y_train.csv', index=False)\n",
    "pd.DataFrame(y_test).to_csv('../data/y_test.csv', index=False)\n",
    "\n",
    "print(\"Data yang telah dipersiapkan berhasil disimpan.\")"
   ]
  },
  {
   "cell_type": "code",
   "execution_count": null,
   "metadata": {},
   "outputs": [],
   "source": []
  },
  {
   "cell_type": "code",
   "execution_count": null,
   "metadata": {},
   "outputs": [],
   "source": []
  },
  {
   "cell_type": "code",
   "execution_count": null,
   "metadata": {},
   "outputs": [],
   "source": []
  }
 ],
 "metadata": {
  "kernelspec": {
   "display_name": "base",
   "language": "python",
   "name": "python3"
  },
  "language_info": {
   "codemirror_mode": {
    "name": "ipython",
    "version": 3
   },
   "file_extension": ".py",
   "mimetype": "text/x-python",
   "name": "python",
   "nbconvert_exporter": "python",
   "pygments_lexer": "ipython3",
   "version": "3.9.13"
  }
 },
 "nbformat": 4,
 "nbformat_minor": 4
}
